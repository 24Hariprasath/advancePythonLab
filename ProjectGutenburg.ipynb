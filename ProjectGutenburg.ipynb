{
  "nbformat": 4,
  "nbformat_minor": 0,
  "metadata": {
    "colab": {
      "provenance": [],
      "authorship_tag": "ABX9TyNp2ii1f6RG7czDFgxi/Z6+",
      "include_colab_link": true
    },
    "kernelspec": {
      "name": "python3",
      "display_name": "Python 3"
    },
    "language_info": {
      "name": "python"
    }
  },
  "cells": [
    {
      "cell_type": "markdown",
      "metadata": {
        "id": "view-in-github",
        "colab_type": "text"
      },
      "source": [
        "<a href=\"https://colab.research.google.com/github/24Hariprasath/advancePythonLab/blob/main/ProjectGutenburg.ipynb\" target=\"_parent\"><img src=\"https://colab.research.google.com/assets/colab-badge.svg\" alt=\"Open In Colab\"/></a>"
      ]
    },
    {
      "cell_type": "markdown",
      "source": [
        "#Web Scraping using BeautifulSoup. BOOK: Death of a hero\n"
      ],
      "metadata": {
        "id": "9b3pq3SN5o0w"
      }
    },
    {
      "cell_type": "code",
      "execution_count": 4,
      "metadata": {
        "id": "ECsabmrY3PTy"
      },
      "outputs": [],
      "source": [
        "import requests\n",
        "from bs4 import BeautifulSoup"
      ]
    },
    {
      "cell_type": "code",
      "source": [
        "url = \"https://www.gutenberg.org/cache/epub/76571/pg76571-images.html\"\n",
        "response = requests.get(url)\n",
        "data = BeautifulSoup(response.content,'html.parser')\n",
        "\n",
        "text_data = data.get_text()"
      ],
      "metadata": {
        "id": "PreHlj5y6JA-"
      },
      "execution_count": 6,
      "outputs": []
    },
    {
      "cell_type": "code",
      "source": [
        "#Encoding\n",
        "\n",
        "utf_data = text_data.encode('utf-8')\n",
        "print(utf_data[:100])\n",
        "\n",
        "#Decoding\n",
        "\n",
        "decoded_data = utf_data.decode('utf-8')\n",
        "\n",
        "words = decoded_data.split()\n",
        "print(f\"The number of words in the book is: {len(words)}\")\n"
      ],
      "metadata": {
        "colab": {
          "base_uri": "https://localhost:8080/"
        },
        "id": "DjDoitpp730B",
        "outputId": "0282598b-2b97-42a8-cec4-9b66699a3aad"
      },
      "execution_count": 10,
      "outputs": [
        {
          "output_type": "stream",
          "name": "stdout",
          "text": [
            "b'\\n\\n\\r\\n      Death of a hero | Project Gutenberg\\r\\n    \\n\\n\\n\\n\\n\\n\\n\\n\\n\\n\\n\\n\\n\\n\\n\\n\\n\\n\\nThe Project Gutenberg eBook of'\n",
            "The number of words in the book is: 125169\n"
          ]
        }
      ]
    },
    {
      "cell_type": "markdown",
      "source": [
        "# String Manipulations. Immutability of String\n"
      ],
      "metadata": {
        "id": "5denabeKFd2C"
      }
    },
    {
      "cell_type": "code",
      "source": [
        "#Strings are immutable you cannot change them in place\n",
        "\n",
        "x = \"Hari\"\n",
        "print(\"The 1st time string initialized\",id(x))\n",
        "\n",
        "x = x+\" Prasath\"\n",
        "print(\"The 2nd time string initialized\",id(x))\n",
        "\n"
      ],
      "metadata": {
        "colab": {
          "base_uri": "https://localhost:8080/"
        },
        "id": "dqm5UcR6Fnsi",
        "outputId": "a676e52a-0b62-450f-9388-4606349d90bd"
      },
      "execution_count": 11,
      "outputs": [
        {
          "output_type": "stream",
          "name": "stdout",
          "text": [
            "The 1st time string initialized 136714833638128\n",
            "The 2nd time string initialized 136714840822576\n"
          ]
        }
      ]
    }
  ]
}