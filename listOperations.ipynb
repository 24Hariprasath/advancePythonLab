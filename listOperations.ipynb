{
  "nbformat": 4,
  "nbformat_minor": 0,
  "metadata": {
    "colab": {
      "provenance": [],
      "authorship_tag": "ABX9TyMj3zE18KmsV8UNx/psthIU",
      "include_colab_link": true
    },
    "kernelspec": {
      "name": "python3",
      "display_name": "Python 3"
    },
    "language_info": {
      "name": "python"
    }
  },
  "cells": [
    {
      "cell_type": "markdown",
      "metadata": {
        "id": "view-in-github",
        "colab_type": "text"
      },
      "source": [
        "<a href=\"https://colab.research.google.com/github/24Hariprasath/advancePythonLab/blob/main/listOperations.ipynb\" target=\"_parent\"><img src=\"https://colab.research.google.com/assets/colab-badge.svg\" alt=\"Open In Colab\"/></a>"
      ]
    },
    {
      "cell_type": "markdown",
      "source": [
        "# Slicing of list"
      ],
      "metadata": {
        "id": "-7eGxkipJslm"
      }
    },
    {
      "cell_type": "code",
      "execution_count": 4,
      "metadata": {
        "colab": {
          "base_uri": "https://localhost:8080/"
        },
        "id": "thsyJSHsJbDQ",
        "outputId": "a704c9d2-bb30-4832-dc3b-afab8afbe058"
      },
      "outputs": [
        {
          "output_type": "stream",
          "name": "stdout",
          "text": [
            "[1, 2, 3]\n",
            "[8, 9]\n",
            "[2, 3, 4, 5, 6, 7, 8, 9]\n",
            "[9, 8, 7, 6, 5, 4, 3, 2, 1]\n"
          ]
        }
      ],
      "source": [
        "a = [1,2,3,4,5,6,7,8,9]\n",
        "\n",
        "print(a[:3]) #1st 2 elements\n",
        "print(a[-2:]) # last 2 elements\n",
        "print(a[1:])  # Second to last elements\n",
        "print(a[::-1]) #reversing elements"
      ]
    },
    {
      "cell_type": "code",
      "source": [
        "b = a\n",
        "c = a[:]\n",
        "\n",
        "a.append(\"sathish\")\n",
        "\n",
        "print(\"Original list a\",a)\n",
        "print(\"Copy by reference list b,\",b)\n",
        "print(\"Copy by value list c\",c)"
      ],
      "metadata": {
        "colab": {
          "base_uri": "https://localhost:8080/"
        },
        "id": "yw6Eh6L4K292",
        "outputId": "b9a006b1-9d35-413e-c3f6-386e8925c3e4"
      },
      "execution_count": 6,
      "outputs": [
        {
          "output_type": "stream",
          "name": "stdout",
          "text": [
            "Original list a [1, 2, 3, 4, 5, 6, 7, 8, 9, 'sathish', 'sathish']\n",
            "Copy by reference list b, [1, 2, 3, 4, 5, 6, 7, 8, 9, 'sathish', 'sathish']\n",
            "Copy by value list c [1, 2, 3, 4, 5, 6, 7, 8, 9, 'sathish']\n"
          ]
        }
      ]
    },
    {
      "cell_type": "code",
      "source": [
        "for i in a[3:]:\n",
        "  print(i)\n",
        ""
      ],
      "metadata": {
        "colab": {
          "base_uri": "https://localhost:8080/"
        },
        "id": "i3N6WE_KLRLD",
        "outputId": "e5b1425d-e7f5-4949-c7e7-7ed172bcd846"
      },
      "execution_count": 7,
      "outputs": [
        {
          "output_type": "stream",
          "name": "stdout",
          "text": [
            "4\n",
            "5\n",
            "6\n",
            "7\n",
            "8\n",
            "9\n",
            "sathish\n",
            "sathish\n"
          ]
        }
      ]
    }
  ]
}