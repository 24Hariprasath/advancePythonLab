{
  "nbformat": 4,
  "nbformat_minor": 0,
  "metadata": {
    "colab": {
      "provenance": [],
      "authorship_tag": "ABX9TyPsLWmynkegni6CjV9mWA8x",
      "include_colab_link": true
    },
    "kernelspec": {
      "name": "python3",
      "display_name": "Python 3"
    },
    "language_info": {
      "name": "python"
    }
  },
  "cells": [
    {
      "cell_type": "markdown",
      "metadata": {
        "id": "view-in-github",
        "colab_type": "text"
      },
      "source": [
        "<a href=\"https://colab.research.google.com/github/24Hariprasath/advancePythonLab/blob/main/Lab8.ipynb\" target=\"_parent\"><img src=\"https://colab.research.google.com/assets/colab-badge.svg\" alt=\"Open In Colab\"/></a>"
      ]
    },
    {
      "cell_type": "markdown",
      "source": [
        "# Name : Hariprasath R\n",
        "# Reg No : 22MID0021\n",
        "# Lab date: 05-08-2025"
      ],
      "metadata": {
        "id": "2EDSI3ilqRAy"
      }
    },
    {
      "cell_type": "code",
      "execution_count": 5,
      "metadata": {
        "colab": {
          "base_uri": "https://localhost:8080/"
        },
        "id": "j699LC_Vp7aw",
        "outputId": "60ff5ef4-829a-4509-aa82-51116407c008"
      },
      "outputs": [
        {
          "output_type": "stream",
          "name": "stdout",
          "text": [
            "25\n"
          ]
        }
      ],
      "source": [
        "# Lambda function\n",
        "\n",
        "Square = lambda x: x*x #lambda is an alternative of writing def it can be used for single line expression complex codes like for loop cant be excuted using lambda\n",
        "squared = Square(5)\n",
        "print(squared)"
      ]
    },
    {
      "cell_type": "markdown",
      "source": [
        "# Iteratable\n"
      ],
      "metadata": {
        "id": "bJdZFCWargD4"
      }
    },
    {
      "cell_type": "code",
      "source": [
        "nums = [1,2,3,4,5,6]\n",
        "for i in nums: #Iteratables are the data types which can be itereated like looped examples are list strings dictionary etc.\n",
        "  print(i)\n",
        "\n"
      ],
      "metadata": {
        "colab": {
          "base_uri": "https://localhost:8080/"
        },
        "id": "BH7C-E_3rsd-",
        "outputId": "7708e5af-5178-4865-ec98-eb0fe5590fe2"
      },
      "execution_count": 6,
      "outputs": [
        {
          "output_type": "stream",
          "name": "stdout",
          "text": [
            "1\n",
            "2\n",
            "3\n",
            "4\n",
            "5\n",
            "6\n"
          ]
        }
      ]
    },
    {
      "cell_type": "code",
      "source": [
        "num = 123456\n",
        "for i in num: #integer is not a iterable so u cant loop through it\n",
        "  print(i)"
      ],
      "metadata": {
        "colab": {
          "base_uri": "https://localhost:8080/",
          "height": 176
        },
        "id": "56J6yRAFsBnz",
        "outputId": "439aa667-173a-4236-ef3a-6ac50390fea8"
      },
      "execution_count": 7,
      "outputs": [
        {
          "output_type": "error",
          "ename": "TypeError",
          "evalue": "'int' object is not iterable",
          "traceback": [
            "\u001b[0;31m---------------------------------------------------------------------------\u001b[0m",
            "\u001b[0;31mTypeError\u001b[0m                                 Traceback (most recent call last)",
            "\u001b[0;32m/tmp/ipython-input-641777048.py\u001b[0m in \u001b[0;36m<cell line: 0>\u001b[0;34m()\u001b[0m\n\u001b[1;32m      1\u001b[0m \u001b[0mnum\u001b[0m \u001b[0;34m=\u001b[0m \u001b[0;36m123456\u001b[0m\u001b[0;34m\u001b[0m\u001b[0;34m\u001b[0m\u001b[0m\n\u001b[0;32m----> 2\u001b[0;31m \u001b[0;32mfor\u001b[0m \u001b[0mi\u001b[0m \u001b[0;32min\u001b[0m \u001b[0mnum\u001b[0m\u001b[0;34m:\u001b[0m\u001b[0;34m\u001b[0m\u001b[0;34m\u001b[0m\u001b[0m\n\u001b[0m\u001b[1;32m      3\u001b[0m   \u001b[0mprint\u001b[0m\u001b[0;34m(\u001b[0m\u001b[0mi\u001b[0m\u001b[0;34m)\u001b[0m\u001b[0;34m\u001b[0m\u001b[0;34m\u001b[0m\u001b[0m\n",
            "\u001b[0;31mTypeError\u001b[0m: 'int' object is not iterable"
          ]
        }
      ]
    },
    {
      "cell_type": "code",
      "source": [
        "# To make int iteratable\n",
        "n = 1234567\n",
        "digits = [int(d) for d in str(n)]   # List Comprehension\n",
        "print(digits)"
      ],
      "metadata": {
        "colab": {
          "base_uri": "https://localhost:8080/"
        },
        "id": "sO1azluIsVYH",
        "outputId": "6f425255-847a-4d5f-8fc1-cfc1c299aae8"
      },
      "execution_count": 8,
      "outputs": [
        {
          "output_type": "stream",
          "name": "stdout",
          "text": [
            "[1, 2, 3, 4, 5, 6, 7]\n"
          ]
        }
      ]
    },
    {
      "cell_type": "markdown",
      "source": [
        "#dir() function returns a list of all the attributes and methods of an object."
      ],
      "metadata": {
        "id": "rLAvY3GSse2_"
      }
    },
    {
      "cell_type": "code",
      "source": [
        "nums = [1,2,3,4,5,6]\n",
        "print(dir(nums))"
      ],
      "metadata": {
        "colab": {
          "base_uri": "https://localhost:8080/"
        },
        "id": "qYLyqVMfs5C3",
        "outputId": "fe547b3a-70b7-45f7-bd6d-dfbf8f7e1264"
      },
      "execution_count": 9,
      "outputs": [
        {
          "output_type": "stream",
          "name": "stdout",
          "text": [
            "['__add__', '__class__', '__class_getitem__', '__contains__', '__delattr__', '__delitem__', '__dir__', '__doc__', '__eq__', '__format__', '__ge__', '__getattribute__', '__getitem__', '__getstate__', '__gt__', '__hash__', '__iadd__', '__imul__', '__init__', '__init_subclass__', '__iter__', '__le__', '__len__', '__lt__', '__mul__', '__ne__', '__new__', '__reduce__', '__reduce_ex__', '__repr__', '__reversed__', '__rmul__', '__setattr__', '__setitem__', '__sizeof__', '__str__', '__subclasshook__', 'append', 'clear', 'copy', 'count', 'extend', 'index', 'insert', 'pop', 'remove', 'reverse', 'sort']\n"
          ]
        }
      ]
    },
    {
      "cell_type": "markdown",
      "source": [
        "# Collections.abc — Abstract Base Classes for Containers (iter(), next())"
      ],
      "metadata": {
        "id": "H-g7EFajtAox"
      }
    },
    {
      "cell_type": "code",
      "source": [
        "names = [\"Ema\",\"Tom\",\"Hinton\"] # original list\n",
        "looper = names.__iter__()     # This line correctly creates an iterator object from your list\n",
        "print(looper)\n",
        "print(type(names))\n",
        "print(type(looper))\n",
        "\n",
        "looper = iter(names)   # same as \"looper = names.__iter__()\"\n",
        "print(looper)\n",
        "print(type(looper))\n",
        "\n",
        "looper = iter(names)\n",
        "print(next(looper))\n",
        "print(next(looper))\n",
        "print(next(looper))\n",
        "print(next(looper))    # Error: Since no more iterable element available (Throws Exception: StopIteration)"
      ],
      "metadata": {
        "colab": {
          "base_uri": "https://localhost:8080/",
          "height": 315
        },
        "id": "QzeHnbzttEuF",
        "outputId": "e88f62a5-59bb-4aff-89f2-36764204ea72"
      },
      "execution_count": 11,
      "outputs": [
        {
          "output_type": "stream",
          "name": "stdout",
          "text": [
            "<list_iterator object at 0x7cb404268730>\n",
            "<class 'list'>\n",
            "<class 'list_iterator'>\n",
            "<list_iterator object at 0x7cb404269fc0>\n",
            "<class 'list_iterator'>\n",
            "Ema\n",
            "Tom\n",
            "Hinton\n"
          ]
        },
        {
          "output_type": "error",
          "ename": "StopIteration",
          "evalue": "",
          "traceback": [
            "\u001b[0;31m---------------------------------------------------------------------------\u001b[0m",
            "\u001b[0;31mStopIteration\u001b[0m                             Traceback (most recent call last)",
            "\u001b[0;32m/tmp/ipython-input-837851283.py\u001b[0m in \u001b[0;36m<cell line: 0>\u001b[0;34m()\u001b[0m\n\u001b[1;32m     13\u001b[0m \u001b[0mprint\u001b[0m\u001b[0;34m(\u001b[0m\u001b[0mnext\u001b[0m\u001b[0;34m(\u001b[0m\u001b[0mlooper\u001b[0m\u001b[0;34m)\u001b[0m\u001b[0;34m)\u001b[0m\u001b[0;34m\u001b[0m\u001b[0;34m\u001b[0m\u001b[0m\n\u001b[1;32m     14\u001b[0m \u001b[0mprint\u001b[0m\u001b[0;34m(\u001b[0m\u001b[0mnext\u001b[0m\u001b[0;34m(\u001b[0m\u001b[0mlooper\u001b[0m\u001b[0;34m)\u001b[0m\u001b[0;34m)\u001b[0m\u001b[0;34m\u001b[0m\u001b[0;34m\u001b[0m\u001b[0m\n\u001b[0;32m---> 15\u001b[0;31m \u001b[0mprint\u001b[0m\u001b[0;34m(\u001b[0m\u001b[0mnext\u001b[0m\u001b[0;34m(\u001b[0m\u001b[0mlooper\u001b[0m\u001b[0;34m)\u001b[0m\u001b[0;34m)\u001b[0m    \u001b[0;31m# Error: Since no more iterable element available (Throws Exception: StopIteration)\u001b[0m\u001b[0;34m\u001b[0m\u001b[0;34m\u001b[0m\u001b[0m\n\u001b[0m",
            "\u001b[0;31mStopIteration\u001b[0m: "
          ]
        }
      ]
    },
    {
      "cell_type": "code",
      "source": [
        "# Iterating the list using iter() and accesing next element by next()\n",
        "names = [\"Ema\",\"Tom\",\"Hinton\"] # original list\n",
        "looper = iter(names)\n",
        "while True:\n",
        "    try:\n",
        "        name = next(looper)\n",
        "        print(name)\n",
        "    except StopIteration:\n",
        "        break"
      ],
      "metadata": {
        "colab": {
          "base_uri": "https://localhost:8080/"
        },
        "id": "RT2bqSTVtUb_",
        "outputId": "f2c79b10-e15c-44d0-d923-b79d46b51c40"
      },
      "execution_count": 12,
      "outputs": [
        {
          "output_type": "stream",
          "name": "stdout",
          "text": [
            "Ema\n",
            "Tom\n",
            "Hinton\n"
          ]
        }
      ]
    },
    {
      "cell_type": "markdown",
      "source": [
        "# Map function"
      ],
      "metadata": {
        "id": "0yC9Im3atXvZ"
      }
    },
    {
      "cell_type": "code",
      "source": [
        "def square(x):\n",
        "    return x*x\n",
        "numbers = [1,2,3,4,5]\n",
        "print(map(square,numbers))   # creates a map object"
      ],
      "metadata": {
        "colab": {
          "base_uri": "https://localhost:8080/"
        },
        "id": "U2cdMU1TtbAW",
        "outputId": "8564c8ed-3aed-4cce-c941-3dbaa72c661f"
      },
      "execution_count": 13,
      "outputs": [
        {
          "output_type": "stream",
          "name": "stdout",
          "text": [
            "<map object at 0x7cb40429dc90>\n"
          ]
        }
      ]
    },
    {
      "cell_type": "code",
      "source": [
        "\n",
        "def square(x):\n",
        "    return x*x\n",
        "numbers = [1,2,3,4,5]\n",
        "print(list(map(square,numbers)))  # create a list using map"
      ],
      "metadata": {
        "colab": {
          "base_uri": "https://localhost:8080/"
        },
        "id": "7tsKK7yutheQ",
        "outputId": "7ec189b1-0b40-4c8f-e660-16937dfd889f"
      },
      "execution_count": 14,
      "outputs": [
        {
          "output_type": "stream",
          "name": "stdout",
          "text": [
            "[1, 4, 9, 16, 25]\n"
          ]
        }
      ]
    },
    {
      "cell_type": "code",
      "source": [
        "# Take a list of names, convert it to upper case and using map and lambda function convert it to lower case\n",
        "names = [\"Ema\",\"Tom\",\"Hinton\"] # original list\n",
        "for i in names:\n",
        "    i.upper()\n",
        "print(names)\n",
        "print(list(map(lambda x:x.lower(),names)))"
      ],
      "metadata": {
        "colab": {
          "base_uri": "https://localhost:8080/"
        },
        "id": "PHAYCR7ptnzQ",
        "outputId": "84ce5223-3e79-430f-f92d-223d0fb45db7"
      },
      "execution_count": 15,
      "outputs": [
        {
          "output_type": "stream",
          "name": "stdout",
          "text": [
            "['Ema', 'Tom', 'Hinton']\n",
            "['ema', 'tom', 'hinton']\n"
          ]
        }
      ]
    },
    {
      "cell_type": "code",
      "source": [
        "from functools import reduce\n",
        "numbers = [1,2,3,4,5]\n",
        "print(reduce(lambda x,y:x+y,numbers))   #The reduce() function applies a function of two arguments cumulatively to the items of a sequence, from left to right, to reduce the sequence to a single value."
      ],
      "metadata": {
        "colab": {
          "base_uri": "https://localhost:8080/"
        },
        "id": "enEKq4r_tsQg",
        "outputId": "4bde0e96-de31-4bb1-a07b-de6221a3b11b"
      },
      "execution_count": 16,
      "outputs": [
        {
          "output_type": "stream",
          "name": "stdout",
          "text": [
            "15\n"
          ]
        }
      ]
    },
    {
      "cell_type": "code",
      "source": [
        "# A list of tokens (words) that form an inspirational quote\n",
        "tokens = [\"Ever\",\"Tried\",\"Ever\",\"Failed\",\"No\",\"Matter\",\"Try\",\"Again\",\"Fail\",\"Again\",\"Fail\",\"Better\"]\n",
        "\n",
        "# Use reduce() with a lambda function to join the tokens\n",
        "# The lambda function combines two strings with a space in between\n",
        "quote = reduce(lambda combined_string, word: combined_string + \" \" + word, tokens)\n",
        "print(quote)"
      ],
      "metadata": {
        "colab": {
          "base_uri": "https://localhost:8080/"
        },
        "id": "jXGUshMRty0C",
        "outputId": "d0f6f9ef-46eb-497b-bae7-31260dde1b89"
      },
      "execution_count": 18,
      "outputs": [
        {
          "output_type": "stream",
          "name": "stdout",
          "text": [
            "Ever Tried Ever Failed No Matter Try Again Fail Again Fail Better\n"
          ]
        }
      ]
    }
  ]
}