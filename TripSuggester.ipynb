{
  "nbformat": 4,
  "nbformat_minor": 0,
  "metadata": {
    "colab": {
      "provenance": [],
      "authorship_tag": "ABX9TyMDvQlRHw9Wc5KL+LqCNhA4",
      "include_colab_link": true
    },
    "kernelspec": {
      "name": "python3",
      "display_name": "Python 3"
    },
    "language_info": {
      "name": "python"
    }
  },
  "cells": [
    {
      "cell_type": "markdown",
      "metadata": {
        "id": "view-in-github",
        "colab_type": "text"
      },
      "source": [
        "<a href=\"https://colab.research.google.com/github/24Hariprasath/advancePythonLab/blob/main/TripSuggester.ipynb\" target=\"_parent\"><img src=\"https://colab.research.google.com/assets/colab-badge.svg\" alt=\"Open In Colab\"/></a>"
      ]
    },
    {
      "cell_type": "markdown",
      "source": [
        "# Getting inputs from user and suggesting a trip destination for user using list and dictionary"
      ],
      "metadata": {
        "id": "dSBhXMq_Jfde"
      }
    },
    {
      "cell_type": "code",
      "execution_count": 1,
      "metadata": {
        "id": "jNyxYSoAI1Q7"
      },
      "outputs": [],
      "source": [
        "destinations = [\n",
        "    {\n",
        "        \"id\": 1,\n",
        "        \"name\": \"Goa\",\n",
        "        \"type\": [\"beach\", \"party\"],\n",
        "        \"description\": \"Famous for its beautiful beaches, vibrant nightlife, and Portuguese heritage.\"\n",
        "    },\n",
        "    {\n",
        "        \"id\": 2,\n",
        "        \"name\": \"Manali\",\n",
        "        \"type\": [\"hills\", \"adventure\", \"snow\"],\n",
        "        \"description\": \"A popular hill station known for its scenic beauty, adventure sports, and snow-capped mountains.\"\n",
        "    },\n",
        "    {\n",
        "        \"id\": 3,\n",
        "        \"name\": \"Jaipur\",\n",
        "        \"type\": [\"historical\", \"cultural\", \"city\"],\n",
        "        \"description\": \"The 'Pink City' of India, rich in history, palaces, and vibrant markets.\"\n",
        "    },\n",
        "    {\n",
        "        \"id\": 4,\n",
        "        \"name\": \"Kerala Backwaters\",\n",
        "        \"type\": [\"nature\", \"serene\", \"backwaters\"],\n",
        "        \"description\": \"Tranquil backwaters, houseboats, and lush greenery in South India.\"\n",
        "    },\n",
        "    {\n",
        "        \"id\": 5,\n",
        "        \"name\": \"Rishikesh\",\n",
        "        \"type\": [\"adventure\", \"spiritual\", \"hills\"],\n",
        "        \"description\": \"Known as the 'Yoga Capital of the World' with adventure sports and spiritual retreats.\"\n",
        "    },\n",
        "    {\n",
        "        \"id\": 6,\n",
        "        \"name\": \"Andaman & Nicobar Islands\",\n",
        "        \"type\": [\"beach\", \"nature\", \"scuba diving\"],\n",
        "        \"description\": \"Pristine beaches, clear waters, and excellent opportunities for water sports.\"\n",
        "    },\n",
        "    {\n",
        "        \"id\": 7,\n",
        "        \"name\": \"Leh-Ladakh\",\n",
        "        \"type\": [\"hills\", \"adventure\", \"cold desert\"],\n",
        "        \"description\": \"High-altitude cold desert with stunning landscapes, monasteries, and adventure.\"\n",
        "    },\n",
        "    {\n",
        "        \"id\": 8,\n",
        "        \"name\": \"Udaipur\",\n",
        "        \"type\": [\"historical\", \"romantic\", \"lakes\"],\n",
        "        \"description\": \"The 'City of Lakes', known for its palaces, lakes, and romantic ambiance.\"\n",
        "    },\n",
        "    {\n",
        "        \"id\": 9,\n",
        "        \"name\": \"Coorg\",\n",
        "        \"type\": [\"hills\", \"nature\", \"coffee plantations\"],\n",
        "        \"description\": \"A popular hill station in Karnataka, famous for its coffee plantations and natural beauty.\"\n",
        "    },\n",
        "    {\n",
        "        \"id\": 10,\n",
        "        \"name\": \"Varanasi\",\n",
        "        \"type\": [\"spiritual\", \"cultural\", \"city\"],\n",
        "        \"description\": \"One of the oldest continuously inhabited cities, sacred to Hindus, with ancient temples and ghats.\"\n",
        "    }\n",
        "]"
      ]
    },
    {
      "cell_type": "code",
      "source": [
        "def get_user_preferences():\n",
        "    print(\"Welcome to the Trip Suggester!\")\n",
        "    print(\"What type of destination do you prefer? (e.g., beach, hills, historical, adventure, nature, spiritual, party, cultural, romantic, serene)\")\n",
        "\n",
        "\n",
        "    preferred_types_input = input(\"Enter your preferred types (comma-separated): \").lower()\n",
        "    preferred_types = [t.strip() for t in preferred_types_input.split(',')]\n",
        "\n",
        "    visited_places_input = input(\"Have you visited any places recently? (Enter names comma-separated, or 'none'): \").lower()\n",
        "    visited_places = [p.strip() for p in visited_places_input.split(',')]\n",
        "\n",
        "    return preferred_types, visited_places"
      ],
      "metadata": {
        "id": "N6sGozOBKFhv"
      },
      "execution_count": 2,
      "outputs": []
    },
    {
      "cell_type": "code",
      "source": [
        "def suggest_destination(destinations, preferred_types, visited_places):\n",
        "    possible_suggestions = []\n",
        "\n",
        "    for dest in destinations:\n",
        "        if any(ptype in dest[\"type\"] for ptype in preferred_types):\n",
        "            possible_suggestions.append(dest)\n",
        "\n",
        "    final_suggestions = []\n",
        "    for suggestion in possible_suggestions:\n",
        "        if suggestion[\"name\"].lower() not in [vp.lower() for vp in visited_places]:\n",
        "            final_suggestions.append(suggestion)\n",
        "\n",
        "    return final_suggestions"
      ],
      "metadata": {
        "id": "t06XRZAaKFSL"
      },
      "execution_count": 3,
      "outputs": []
    },
    {
      "cell_type": "code",
      "source": [
        "def display_suggestions(suggestions):\n",
        "    if suggestions:\n",
        "        print(\"\\nHere are some trip suggestions for you:\")\n",
        "        for i, suggestion in enumerate(suggestions):\n",
        "            print(f\"\\n{i+1}. {suggestion['name']}\")\n",
        "            print(f\"   Type: {', '.join(suggestion['type'])}\")\n",
        "            print(f\"   Description: {suggestion['description']}\")\n",
        "    else:\n",
        "        print(\"\\nSorry, no suggestions match your criteria. Try different preferences or fewer visited places!\")"
      ],
      "metadata": {
        "id": "F5U21VDGKl8i"
      },
      "execution_count": 4,
      "outputs": []
    },
    {
      "cell_type": "code",
      "source": [
        "\n",
        "\n",
        "def run_trip_suggester():\n",
        "    preferred_types, visited_places = get_user_preferences()\n",
        "    suggestions = suggest_destination(destinations, preferred_types, visited_places)\n",
        "    display_suggestions(suggestions)\n",
        "\n",
        "\n",
        "run_trip_suggester()"
      ],
      "metadata": {
        "colab": {
          "base_uri": "https://localhost:8080/"
        },
        "id": "ZD7dSkv6KpCp",
        "outputId": "68dbab5f-a81d-4fb9-8a3c-0673bb3e0496"
      },
      "execution_count": 5,
      "outputs": [
        {
          "output_type": "stream",
          "name": "stdout",
          "text": [
            "Welcome to the Trip Suggester!\n",
            "What type of destination do you prefer? (e.g., beach, hills, historical, adventure, nature, spiritual, party, cultural, romantic, serene)\n",
            "Enter your preferred types (comma-separated): beach,adventure\n",
            "Have you visited any places recently? (Enter names comma-separated, or 'none'): none\n",
            "\n",
            "Here are some trip suggestions for you:\n",
            "\n",
            "1. Goa\n",
            "   Type: beach, party\n",
            "   Description: Famous for its beautiful beaches, vibrant nightlife, and Portuguese heritage.\n",
            "\n",
            "2. Manali\n",
            "   Type: hills, adventure, snow\n",
            "   Description: A popular hill station known for its scenic beauty, adventure sports, and snow-capped mountains.\n",
            "\n",
            "3. Rishikesh\n",
            "   Type: adventure, spiritual, hills\n",
            "   Description: Known as the 'Yoga Capital of the World' with adventure sports and spiritual retreats.\n",
            "\n",
            "4. Andaman & Nicobar Islands\n",
            "   Type: beach, nature, scuba diving\n",
            "   Description: Pristine beaches, clear waters, and excellent opportunities for water sports.\n",
            "\n",
            "5. Leh-Ladakh\n",
            "   Type: hills, adventure, cold desert\n",
            "   Description: High-altitude cold desert with stunning landscapes, monasteries, and adventure.\n"
          ]
        }
      ]
    }
  ]
}