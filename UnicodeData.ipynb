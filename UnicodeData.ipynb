{
  "nbformat": 4,
  "nbformat_minor": 0,
  "metadata": {
    "colab": {
      "provenance": [],
      "authorship_tag": "ABX9TyPY5f6Am15ONgxJj+TRZTU1",
      "include_colab_link": true
    },
    "kernelspec": {
      "name": "python3",
      "display_name": "Python 3"
    },
    "language_info": {
      "name": "python"
    }
  },
  "cells": [
    {
      "cell_type": "markdown",
      "metadata": {
        "id": "view-in-github",
        "colab_type": "text"
      },
      "source": [
        "<a href=\"https://colab.research.google.com/github/24Hariprasath/advancePythonLab/blob/main/UnicodeData.ipynb\" target=\"_parent\"><img src=\"https://colab.research.google.com/assets/colab-badge.svg\" alt=\"Open In Colab\"/></a>"
      ]
    },
    {
      "cell_type": "markdown",
      "source": [
        "# Handling unicode data and accessing character not in keyboard and printing the unicode of character in keyboard\n"
      ],
      "metadata": {
        "id": "bZsuKRxowTay"
      }
    },
    {
      "cell_type": "code",
      "execution_count": 2,
      "metadata": {
        "colab": {
          "base_uri": "https://localhost:8080/"
        },
        "id": "iyB5eLp4wPo0",
        "outputId": "2a0bb050-2f85-444d-e064-6d3e6450b0a5"
      },
      "outputs": [
        {
          "output_type": "stream",
          "name": "stdout",
          "text": [
            "α\n",
            "😂\n"
          ]
        }
      ],
      "source": [
        "print('\\u03B1')\n",
        "print('\\U0001F602')"
      ]
    },
    {
      "cell_type": "code",
      "source": [
        "import unicodedata\n",
        "\n",
        "char = unicodedata.lookup(\"SNOWMAN\")\n",
        "print(char)\n",
        "\n",
        "s = \"Math symbols: ∑ \\u2211, ∞ \\u221E\"\n",
        "print(s)"
      ],
      "metadata": {
        "colab": {
          "base_uri": "https://localhost:8080/"
        },
        "id": "wedIPxHmxlKm",
        "outputId": "ae71b351-4cd8-445b-b518-78aeaf4ac08e"
      },
      "execution_count": 3,
      "outputs": [
        {
          "output_type": "stream",
          "name": "stdout",
          "text": [
            "☃\n",
            "Math symbols: ∑ ∑, ∞ ∞\n"
          ]
        }
      ]
    },
    {
      "cell_type": "code",
      "source": [
        "data = {\n",
        "    '\\u03C0': 3.14,\n",
        "    'emoji': '\\U0001F600'\n",
        "}\n",
        "print(data['\\u03C0'])\n",
        "print(data['emoji'])"
      ],
      "metadata": {
        "colab": {
          "base_uri": "https://localhost:8080/"
        },
        "id": "kw4bwwfUx2Fx",
        "outputId": "5c02f86d-1045-4a5b-ae6b-a570d5c688f8"
      },
      "execution_count": 4,
      "outputs": [
        {
          "output_type": "stream",
          "name": "stdout",
          "text": [
            "3.14\n",
            "😀\n"
          ]
        }
      ]
    },
    {
      "cell_type": "code",
      "source": [
        "character = input(\"Enter the character from keyboard: \")\n",
        "unicode = ord(character)\n",
        "unicode_seq = f'\\\\u{unicode:04x}'\n",
        "print(\"Unicode value of the character is \",unicode_seq)"
      ],
      "metadata": {
        "colab": {
          "base_uri": "https://localhost:8080/"
        },
        "id": "-DIIfoTGyMOb",
        "outputId": "68ecbe6b-840a-4d9c-9393-f4d19ebd87d6"
      },
      "execution_count": 7,
      "outputs": [
        {
          "output_type": "stream",
          "name": "stdout",
          "text": [
            "Enter the character from keyboard: &\n",
            "Unicode value of the character is  \\u0026\n"
          ]
        }
      ]
    },
    {
      "cell_type": "code",
      "source": [
        "# Encoding Chinese character\n",
        "character = '你'\n",
        "unicode = ord(character)\n",
        "unicode_seq = f'\\\\u{unicode:04x}'\n",
        "print(\"Unicode value of the character is \",unicode_seq)"
      ],
      "metadata": {
        "colab": {
          "base_uri": "https://localhost:8080/"
        },
        "id": "rZjX5Juty5Pn",
        "outputId": "da335547-1ef8-407a-eac1-20a74fe1cdc5"
      },
      "execution_count": 8,
      "outputs": [
        {
          "output_type": "stream",
          "name": "stdout",
          "text": [
            "Unicode value of the character is  \\u4f60\n"
          ]
        }
      ]
    }
  ]
}